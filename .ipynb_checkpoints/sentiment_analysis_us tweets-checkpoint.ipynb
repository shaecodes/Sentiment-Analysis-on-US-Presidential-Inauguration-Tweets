{
 "cells": [
  {
   "cell_type": "code",
   "execution_count": 1,
   "id": "d99416ca-8d76-4e28-b007-b6704fe9d708",
   "metadata": {},
   "outputs": [],
   "source": [
    "import pandas as pd\n",
    "import os\n",
    "import math\n",
    "import requests\n",
    "import re\n",
    "from shapely.geometry import shape\n",
    "import folium "
   ]
  },
  {
   "cell_type": "code",
   "execution_count": 2,
   "id": "c8dfdd32-b9e3-41a9-9650-d34f08c3fc67",
   "metadata": {},
   "outputs": [],
   "source": [
    "tweets = pd.read_csv(\"./data/tweet_location_data_cleaned.csv\")\n",
    "country_counts = pd.read_csv(\"./data/tweet_frequency_per_country.csv\")"
   ]
  },
  {
   "cell_type": "code",
   "execution_count": 3,
   "id": "8dfe1901-d160-47c9-87df-e7bccd3ce865",
   "metadata": {},
   "outputs": [
    {
     "data": {
      "text/html": [
       "<div>\n",
       "<style scoped>\n",
       "    .dataframe tbody tr th:only-of-type {\n",
       "        vertical-align: middle;\n",
       "    }\n",
       "\n",
       "    .dataframe tbody tr th {\n",
       "        vertical-align: top;\n",
       "    }\n",
       "\n",
       "    .dataframe thead th {\n",
       "        text-align: right;\n",
       "    }\n",
       "</style>\n",
       "<table border=\"1\" class=\"dataframe\">\n",
       "  <thead>\n",
       "    <tr style=\"text-align: right;\">\n",
       "      <th></th>\n",
       "      <th>created_at</th>\n",
       "      <th>text</th>\n",
       "      <th>user_location</th>\n",
       "      <th>user_name</th>\n",
       "      <th>user_verified</th>\n",
       "      <th>user_description</th>\n",
       "      <th>user_created_at</th>\n",
       "      <th>country</th>\n",
       "      <th>iso2</th>\n",
       "      <th>iso3</th>\n",
       "      <th>city</th>\n",
       "      <th>state</th>\n",
       "    </tr>\n",
       "  </thead>\n",
       "  <tbody>\n",
       "    <tr>\n",
       "      <th>0</th>\n",
       "      <td>Wed Jan 20 23:59:58 +0000 2021</td>\n",
       "      <td>WE DID IT JOE!! \\nYOUâ€™RE gonnandjfndndhebehr...</td>\n",
       "      <td>NaN</td>\n",
       "      <td>Kay Brittany</td>\n",
       "      <td>0.0</td>\n",
       "      <td>SkinCare Products @kayscoffeescrub 23 years yo...</td>\n",
       "      <td>Fri May 09 03:19:52 +0000 2014</td>\n",
       "      <td>No Location</td>\n",
       "      <td>NaN</td>\n",
       "      <td>NaN</td>\n",
       "      <td>NaN</td>\n",
       "      <td>Nan</td>\n",
       "    </tr>\n",
       "    <tr>\n",
       "      <th>1</th>\n",
       "      <td>Wed Jan 20 23:59:58 +0000 2021</td>\n",
       "      <td>#JoeBiden : A better person, a better man, a b...</td>\n",
       "      <td>NaN</td>\n",
       "      <td>Rev. Al</td>\n",
       "      <td>0.0</td>\n",
       "      <td>Poor but Happy Democrat.</td>\n",
       "      <td>Sat Jul 28 19:35:49 +0000 2012</td>\n",
       "      <td>No Location</td>\n",
       "      <td>NaN</td>\n",
       "      <td>NaN</td>\n",
       "      <td>NaN</td>\n",
       "      <td>Nan</td>\n",
       "    </tr>\n",
       "    <tr>\n",
       "      <th>2</th>\n",
       "      <td>Wed Jan 20 23:59:57 +0000 2021</td>\n",
       "      <td>Girl Crushing on #KamalaHarris while at the sa...</td>\n",
       "      <td>NaN</td>\n",
       "      <td>RAJIV KUMAR</td>\n",
       "      <td>0.0</td>\n",
       "      <td>#Entrepreneur II Food Evangelist II Economist ...</td>\n",
       "      <td>Thu Feb 19 12:00:05 +0000 2009</td>\n",
       "      <td>No Location</td>\n",
       "      <td>NaN</td>\n",
       "      <td>NaN</td>\n",
       "      <td>NaN</td>\n",
       "      <td>Nan</td>\n",
       "    </tr>\n",
       "    <tr>\n",
       "      <th>3</th>\n",
       "      <td>Wed Jan 20 23:59:55 +0000 2021</td>\n",
       "      <td>Curious: how many #Trump supporters who canâ€™...</td>\n",
       "      <td>Brooklyn Ny</td>\n",
       "      <td>Yisroel</td>\n",
       "      <td>0.0</td>\n",
       "      <td>life enthusiast. wide eyed idealist. nerd wann...</td>\n",
       "      <td>Thu Mar 24 02:44:03 +0000 2011</td>\n",
       "      <td>United States of America</td>\n",
       "      <td>NY</td>\n",
       "      <td>NYC</td>\n",
       "      <td>Brooklyn</td>\n",
       "      <td>NaN</td>\n",
       "    </tr>\n",
       "    <tr>\n",
       "      <th>4</th>\n",
       "      <td>Wed Jan 20 23:59:55 +0000 2021</td>\n",
       "      <td>@ZaidZamanHamid's account has been withheld in...</td>\n",
       "      <td>NaN</td>\n",
       "      <td>Sohail Ashraf</td>\n",
       "      <td>0.0</td>\n",
       "      <td>NaN</td>\n",
       "      <td>Sat Jun 23 09:36:52 +0000 2012</td>\n",
       "      <td>No Location</td>\n",
       "      <td>NaN</td>\n",
       "      <td>NaN</td>\n",
       "      <td>NaN</td>\n",
       "      <td>Nan</td>\n",
       "    </tr>\n",
       "  </tbody>\n",
       "</table>\n",
       "</div>"
      ],
      "text/plain": [
       "                       created_at  \\\n",
       "0  Wed Jan 20 23:59:58 +0000 2021   \n",
       "1  Wed Jan 20 23:59:58 +0000 2021   \n",
       "2  Wed Jan 20 23:59:57 +0000 2021   \n",
       "3  Wed Jan 20 23:59:55 +0000 2021   \n",
       "4  Wed Jan 20 23:59:55 +0000 2021   \n",
       "\n",
       "                                                text user_location  \\\n",
       "0  WE DID IT JOE!! \\nYOUâ€™RE gonnandjfndndhebehr...           NaN   \n",
       "1  #JoeBiden : A better person, a better man, a b...           NaN   \n",
       "2  Girl Crushing on #KamalaHarris while at the sa...           NaN   \n",
       "3  Curious: how many #Trump supporters who canâ€™...   Brooklyn Ny   \n",
       "4  @ZaidZamanHamid's account has been withheld in...           NaN   \n",
       "\n",
       "       user_name  user_verified  \\\n",
       "0   Kay Brittany            0.0   \n",
       "1        Rev. Al            0.0   \n",
       "2    RAJIV KUMAR            0.0   \n",
       "3        Yisroel            0.0   \n",
       "4  Sohail Ashraf            0.0   \n",
       "\n",
       "                                    user_description  \\\n",
       "0  SkinCare Products @kayscoffeescrub 23 years yo...   \n",
       "1                           Poor but Happy Democrat.   \n",
       "2  #Entrepreneur II Food Evangelist II Economist ...   \n",
       "3  life enthusiast. wide eyed idealist. nerd wann...   \n",
       "4                                                NaN   \n",
       "\n",
       "                  user_created_at                   country iso2 iso3  \\\n",
       "0  Fri May 09 03:19:52 +0000 2014               No Location  NaN  NaN   \n",
       "1  Sat Jul 28 19:35:49 +0000 2012               No Location  NaN  NaN   \n",
       "2  Thu Feb 19 12:00:05 +0000 2009               No Location  NaN  NaN   \n",
       "3  Thu Mar 24 02:44:03 +0000 2011  United States of America   NY  NYC   \n",
       "4  Sat Jun 23 09:36:52 +0000 2012               No Location  NaN  NaN   \n",
       "\n",
       "       city state  \n",
       "0       NaN   Nan  \n",
       "1       NaN   Nan  \n",
       "2       NaN   Nan  \n",
       "3  Brooklyn   NaN  \n",
       "4       NaN   Nan  "
      ]
     },
     "execution_count": 3,
     "metadata": {},
     "output_type": "execute_result"
    }
   ],
   "source": [
    "tweets.head()"
   ]
  },
  {
   "cell_type": "code",
   "execution_count": 4,
   "id": "3b564d44-e9ff-4bdc-baf0-9b404988a3ae",
   "metadata": {},
   "outputs": [],
   "source": [
    "tweets['userid'] = pd.factorize(tweets['user_name'])[0]"
   ]
  },
  {
   "cell_type": "markdown",
   "id": "c7d9c651-e9e2-4108-9d6b-8cd9e47061d3",
   "metadata": {},
   "source": [
    "### Converting to Date and Time Format"
   ]
  },
  {
   "cell_type": "code",
   "execution_count": null,
   "id": "5a94ae54-a0a4-4fe1-8e26-09657ea8610e",
   "metadata": {},
   "outputs": [
    {
     "name": "stderr",
     "output_type": "stream",
     "text": [
      "C:\\Users\\sincl\\AppData\\Local\\Temp\\ipykernel_19008\\1557084992.py:1: UserWarning: Could not infer format, so each element will be parsed individually, falling back to `dateutil`. To ensure parsing is consistent and as-expected, please specify a format.\n",
      "  tweets[\"created_at\"] = pd.to_datetime(tweets[\"created_at\"], errors='coerce')\n",
      "C:\\Users\\sincl\\AppData\\Local\\Temp\\ipykernel_19008\\1557084992.py:4: UserWarning: Could not infer format, so each element will be parsed individually, falling back to `dateutil`. To ensure parsing is consistent and as-expected, please specify a format.\n",
      "  tweets[\"user_created_at\"] = pd.to_datetime(tweets[\"user_created_at\"], errors='coerce')\n"
     ]
    }
   ],
   "source": [
    "tweets[\"created_at\"] = pd.to_datetime(tweets[\"created_at\"], errors='coerce')\n",
    "tweets[\"created_at\"] = tweets[\"created_at\"].dt.strftime('%Y-%m-%d %H:%M:%S')\n",
    "\n",
    "tweets[\"user_created_at\"] = pd.to_datetime(tweets[\"user_created_at\"], errors='coerce')\n",
    "tweets[\"user_created_at\"] = tweets[\"user_created_at\"].dt.strftime('%Y-%m-%d %H:%M:%S')"
   ]
  },
  {
   "cell_type": "code",
   "execution_count": null,
   "id": "f07de462-73b8-4db6-b10c-37506146061d",
   "metadata": {},
   "outputs": [],
   "source": [
    "tweets.sample(2)"
   ]
  },
  {
   "cell_type": "markdown",
   "id": "e3d11074-221f-4460-bb7a-5732af8c8dfe",
   "metadata": {},
   "source": [
    "### Removing Special Characters "
   ]
  },
  {
   "cell_type": "code",
   "execution_count": null,
   "id": "c11b32b4-9c23-4604-b5df-b695bef8ff8c",
   "metadata": {},
   "outputs": [],
   "source": [
    "tweets['text'] = tweets['text'].str.replace(r'[^\\w\\s]','',regex=True) \n",
    "tweets['text'] = tweets['text'].apply(lambda x: re.split('https:\\/\\/.*', str(x))[0])\n",
    "tweets['text'] = tweets['text'].str.title()\n",
    "tweets['text'] = tweets['text'].str.strip()"
   ]
  },
  {
   "cell_type": "code",
   "execution_count": null,
   "id": "81ae3304-b982-4c39-b5f3-a00cc0732ef1",
   "metadata": {},
   "outputs": [],
   "source": [
    "tweets.sample(5)"
   ]
  },
  {
   "cell_type": "code",
   "execution_count": null,
   "id": "29ea6988-8948-416e-8725-c6862c4407e9",
   "metadata": {},
   "outputs": [],
   "source": [
    "user_columns = ['userid', 'user_verified', 'user_description', 'user_created_at']  \n",
    "user = tweets[user_columns]\n",
    "user.to_csv(\"./data/user.csv\", index = False)\n",
    "\n",
    "tweets_columns = ['userid','user_name','text', 'country','created_at']\n",
    "tweets_info = tweets[tweets_columns]\n",
    "tweets_info.to_csv(\"./data/tweets.csv\",  index = False)\n",
    "\n",
    "country = ['userid','country', 'iso2','iso3','city','state']\n",
    "country = tweets[country]\n",
    "country.to_csv(\"./data/country.csv\",  index = False)"
   ]
  },
  {
   "cell_type": "code",
   "execution_count": null,
   "id": "28a09ba4-1964-4fee-b6fc-146ea7346f3e",
   "metadata": {},
   "outputs": [],
   "source": [
    "user"
   ]
  },
  {
   "cell_type": "code",
   "execution_count": null,
   "id": "fd556d16-a3a1-498c-8778-b3644797ab46",
   "metadata": {},
   "outputs": [],
   "source": [
    "tweets_info"
   ]
  },
  {
   "cell_type": "code",
   "execution_count": null,
   "id": "c2174080-e370-4166-80b1-01244d341197",
   "metadata": {},
   "outputs": [],
   "source": [
    "country"
   ]
  },
  {
   "cell_type": "markdown",
   "id": "6ce6eab2-50f1-4a95-ad38-6fcb9b90c45b",
   "metadata": {},
   "source": [
    "### Top Ten Countries with the Highest Frequency of Tweets"
   ]
  },
  {
   "cell_type": "code",
   "execution_count": null,
   "id": "db420809-b097-44da-b8b7-4168dbf5cbdd",
   "metadata": {},
   "outputs": [],
   "source": [
    "country_counts[\"count_log\"] = country_counts[\"count\"].apply(math.log10)\n",
    "country_counts.head(5)"
   ]
  },
  {
   "cell_type": "markdown",
   "id": "e54d804c-1f1d-4c33-9fe0-4cb43deaf275",
   "metadata": {},
   "source": [
    "### World Map Showing the Distibution of Tweets"
   ]
  },
  {
   "cell_type": "code",
   "execution_count": null,
   "id": "4b409bb3-e8e5-46b4-8d8d-313dd618250a",
   "metadata": {},
   "outputs": [],
   "source": [
    "m = folium.Map(location = [0,0], zoom_start = 2, zoom_control=False,\n",
    "               scrollWheelZoom=False,\n",
    "               dragging=False)\n",
    "\n",
    "geojson_url = 'https://raw.githubusercontent.com/python-visualization/folium/master/examples/data/world-countries.json'\n",
    "response = requests.get(geojson_url)\n",
    "geojson = response.json()"
   ]
  },
  {
   "cell_type": "code",
   "execution_count": null,
   "id": "b0f85059-3e13-4f22-8f29-0ec29b5aedb2",
   "metadata": {},
   "outputs": [],
   "source": [
    "folium.Choropleth(\n",
    "    geo_data=geojson,\n",
    "    data=country_counts,\n",
    "    fill_color=\"Greens\",\n",
    "    columns=['country', 'count_log'],\n",
    "    key_on='feature.properties.name',\n",
    "    fill_opacity=0.8,\n",
    "    line_opacity=0.4,\n",
    "    legend_name=\"Tweet Locations Frequency\"\n",
    ").add_to(m)"
   ]
  },
  {
   "cell_type": "code",
   "execution_count": null,
   "id": "d4ac37b8-9cdb-4b23-a335-fa358bce3995",
   "metadata": {},
   "outputs": [],
   "source": [
    "count_dict = dict(zip(country_counts['country'], country_counts['count']))"
   ]
  },
  {
   "cell_type": "code",
   "execution_count": null,
   "id": "3a4dd005-0fdd-4767-a459-4d4d7e10b6fc",
   "metadata": {},
   "outputs": [],
   "source": [
    "geojson_layer = folium.GeoJson(\n",
    "    geojson,\n",
    "    name=\"Country Info\",\n",
    "    style_function=lambda x: {\n",
    "        'fillOpacity': 0,\n",
    "        'color': 'black',\n",
    "        'weight': 0.1\n",
    "    },\n",
    "    tooltip=folium.GeoJsonTooltip(\n",
    "        fields=['name', 'count'],\n",
    "        aliases=['Country:', 'Tweet Count:'],\n",
    "        localize=True,\n",
    "        sticky=True,\n",
    "        labels=True\n",
    "    )\n",
    ").add_to(m)"
   ]
  },
  {
   "cell_type": "code",
   "execution_count": null,
   "id": "d9f73b07-f1ca-4ba2-b8d9-b5c87dc9d415",
   "metadata": {},
   "outputs": [],
   "source": [
    "for feature in geojson['features']:\n",
    "    country_name = feature['properties']['name']\n",
    "    feature['properties']['count'] = count_dict.get(country_name, 0)\n",
    "    count = count_dict.get(country_name, 0)\n",
    "    geom = shape(feature['geometry'])\n",
    "    lon, lat = geom.centroid.coords[0]\n",
    "    \n",
    "    folium.Marker(\n",
    "        location=[lat, lon],\n",
    "        icon=folium.DivIcon(html=f\"<div style='font-size: 7pt; color: black;'>{count}</div>\")\n",
    "    ).add_to(m)"
   ]
  },
  {
   "cell_type": "code",
   "execution_count": null,
   "id": "3d98c0c7-5e77-4dca-822c-4014cb67c955",
   "metadata": {},
   "outputs": [],
   "source": [
    "m"
   ]
  }
 ],
 "metadata": {
  "kernelspec": {
   "display_name": "Python 3 (ipykernel)",
   "language": "python",
   "name": "python3"
  },
  "language_info": {
   "codemirror_mode": {
    "name": "ipython",
    "version": 3
   },
   "file_extension": ".py",
   "mimetype": "text/x-python",
   "name": "python",
   "nbconvert_exporter": "python",
   "pygments_lexer": "ipython3",
   "version": "3.11.9"
  }
 },
 "nbformat": 4,
 "nbformat_minor": 5
}
